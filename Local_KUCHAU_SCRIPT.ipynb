{
  "nbformat": 4,
  "nbformat_minor": 0,
  "metadata": {
    "colab": {
      "provenance": [],
      "include_colab_link": true
    },
    "kernelspec": {
      "name": "python3",
      "display_name": "Python 3"
    },
    "language_info": {
      "name": "python"
    }
  },
  "cells": [
    {
      "cell_type": "markdown",
      "metadata": {
        "id": "view-in-github",
        "colab_type": "text"
      },
      "source": [
        "<a href=\"https://colab.research.google.com/github/dejedej/Bomberman-for-CIP2023/blob/main/Local_KUCHAU_SCRIPT.ipynb\" target=\"_parent\"><img src=\"https://colab.research.google.com/assets/colab-badge.svg\" alt=\"Open In Colab\"/></a>"
      ]
    },
    {
      "cell_type": "markdown",
      "source": [
        "***МАША!!!***\n",
        "\n",
        "Я не забыл про праздник про который забываю! (Я ща про твою годовщину если че)\n",
        "\n",
        "Вместо цветов и конфет, я сделал... язык программирования для тебя...\n",
        "\n",
        "Зачем тебе R и Python когда есть **К-ЧАУ СКРИПТ**?\n",
        "\n",
        "Твой пранкер Граф Димас"
      ],
      "metadata": {
        "id": "TErWvSXGdWOP"
      }
    },
    {
      "cell_type": "code",
      "source": [
        "from google.colab import drive\n",
        "drive.mount('/content/drive')\n",
        "\n",
        "import os\n",
        "os.chdir('/content/drive/MyDrive/Colab Notebooks/kuchau')\n",
        "!pwd"
      ],
      "metadata": {
        "id": "FO8CVbiTgeOe",
        "outputId": "a75770a0-94b7-44d2-b532-e02305d3173e",
        "colab": {
          "base_uri": "https://localhost:8080/"
        }
      },
      "execution_count": null,
      "outputs": [
        {
          "output_type": "stream",
          "name": "stdout",
          "text": [
            "Mounted at /content/drive\n",
            "/content/drive/MyDrive/Colab Notebooks/kuchau\n"
          ]
        }
      ]
    },
    {
      "cell_type": "code",
      "source": [
        "!python kuchau_console.py"
      ],
      "metadata": {
        "colab": {
          "base_uri": "https://localhost:8080/"
        },
        "id": "-H_vJ4I9VhUU",
        "outputId": "55cc2e9d-fa0a-46e7-8d75-9aa16eb191d7",
        "collapsed": true
      },
      "execution_count": null,
      "outputs": [
        {
          "output_type": "stream",
          "name": "stdout",
          "text": [
            "\n",
            "АЛОХА ЛОХИ! ЗАПУСКАЕМ КОНСОЛЬ К-ЧАУ СКРИПТ\n",
            "Ржакаю над мемами для сороколетних...\n",
            "Готовлю пасту а-ля маш...\n",
            "Запускаю интерпретатор...\n",
            "\n",
            "KUCHAU SCRIPT Interpreter v6.66\n",
            "==============================\n",
            "Открываю просечку...\n",
            "\n",
            "Список комманд языка К-ЧАУ СКРИПТ:\n",
            "| Команда на BASIC | Команда на К-ЧАУ СКРИПТ |\n",
            "| ----------------- | ------------- |\n",
            "| PRINT | SHOWMEYOURGENITALS |\n",
            "| LET | EBUN |\n",
            "| IF | ZHOPA |\n",
            "| THEN | MASHULKIN |\n",
            "| FOR | PELMEN |\n",
            "| TO | DODON |\n",
            "| NEXT | PAVUK |\n",
            "\n",
            "Пиши программу на языке К-ЧАУ СКРИПТ начиная с номера строки\n",
            "(например, 10 SHOWMEYOURGENITALS \"ХАЧУ В МАКДОНАЛС!!!\")\n",
            "Чтобы запустить программу командуй RUN\n",
            "\n",
            "KUCHAU SCRIPT Interactive Console v4.20\n",
            "==================================================\n",
            "Commands:\n",
            "  RUN     - Погнали, яшереца!\n",
            "  LIST    - Че там.\n",
            "  CLEAR   - Все хуйня, давай по новой!\n",
            "  EXIT    - Досвидули...\n",
            "==================================================\n",
            " 10 > SHOWMEYOURGENITALS \"DAI DODON\"\n",
            "Мышулькин, соберись! Перед командой надо писать номер строки!\n",
            "НАПРИМЕР: 10 SHOWMEYOURGENITALS \"соси жопу!\"\n",
            " 10 > 10 SHOWMEYOURGENITALS \"DAI DODON\"\n",
            "Добавлена строка 10. Следующая строка 20\n",
            " 20 > RUN\n",
            "\n",
            "Пошла возня...\n",
            "\n",
            "Пошла возня...\n",
            "DAI DODON\n",
            "\n",
            "Program execution completed.\n",
            " 20 > CLEAR\n",
            "Заново...\n",
            " 10 > 10 EBUN N=7\n",
            "Добавлена строка 10. Следующая строка 20\n",
            " 20 > 20 SHOWMEYOURGENITALS N\n",
            "Добавлена строка 20. Следующая строка 30\n",
            " 30 > RUN\n",
            "\n",
            "Пошла возня...\n",
            "\n",
            "Пошла возня...\n",
            "7.0\n",
            "\n",
            "Program execution completed.\n",
            " 30 > \n",
            "Галя, у нас отмена.\n",
            " 30 > \n",
            "Галя, у нас отмена.\n",
            " 30 > \n",
            "Галя, у нас отмена.\n",
            " 30 > ^C\n"
          ]
        }
      ]
    },
    {
      "cell_type": "markdown",
      "source": [
        "Теперь когда ты наигралась, у меня есть для тебя несколько заданий. За правильное решение будешь получать приз, за неправильное -- не будешь.\n",
        "\n",
        "\n",
        "---\n",
        "**Пример 1:**\n",
        "\n",
        "**Считальник для вещей.**\n",
        "\n",
        "10 SHOWMEYOURGENITALS \"Считаем пальцы на руках:\"\n",
        "\n",
        "20 EBUN L = 5\n",
        "\n",
        "30 EBUN R = 4\n",
        "\n",
        "40 EBUN N = L + R\n",
        "\n",
        "50 SHOWMEYOURGENITALS \"Количество ваших пальцев на руках:\"\n",
        "\n",
        "60 SHOWMEYOURGENITALS N\n",
        "\n",
        "\n",
        "\n",
        "---\n",
        "\n",
        "\n",
        "\n",
        "**Пояснения...**\n",
        "\n",
        "10 Программа выводит заголовок на экран \"Считаем пальцы на руках:\"\n",
        "\n",
        "20 С помощью команды EBUM задаем значение переменной L -- количество пальцев на левой руке\n",
        "\n",
        "30 С помощью команды EBUM задаем значение переменной R -- количество пальцев на правой руке\n",
        "\n",
        "40 Вводим переменную N которая показывает сумму рук на пальцах\n",
        "\n",
        "50 Команда SHOWMEYOURGENITALS выводит сообщение \"Количество ваших пальцев на руках:\"...\n",
        "\n",
        "60 ...И результат.\n",
        "\n",
        "\n",
        "\n",
        "---\n",
        "\n",
        "\n",
        "\n",
        "**Задание 1:**\n",
        "\n",
        "**Посчитай помидоры.**"
      ],
      "metadata": {
        "id": "LVw8d3nFsAp-"
      }
    },
    {
      "cell_type": "code",
      "source": [
        "!python kuchau_console.py"
      ],
      "metadata": {
        "id": "U6FgJtkvvr6i"
      },
      "execution_count": null,
      "outputs": []
    },
    {
      "cell_type": "markdown",
      "source": [
        "\n",
        "\n",
        "\n",
        "\n",
        "---\n",
        "\n",
        "\n",
        "**Пример 2:**\n",
        "\n",
        "**Счет от 1 до 5:**\n",
        "\n",
        "\n",
        "10 SHOWMEYOURGENITALS \"Считаем до 5:\"\n",
        "\n",
        "20 PELMEN I = 1 DODON 5\n",
        "\n",
        "30 SHOWMEYOURGENITALS \"Счет: \"\n",
        "\n",
        "40 SHOWMEYOURGENITALS I\n",
        "\n",
        "50 PAVUK I\n",
        "\n",
        "60 SHOWMEYOURGENITALS \"Молодец!\"\n",
        "\n",
        "\n",
        "---\n",
        "\n",
        "\n",
        "\n",
        "**Пояснения...**\n",
        "\n",
        "10 Сначала программа выводит \"Считаем до 5:\"\n",
        "\n",
        "20 Затем она использует PELMEN (FOR), чтобы создать цикл, который считает от 1 до (DODON) 5\n",
        "\n",
        "30 Для каждого числа она выводит \"Счет: \",\n",
        "\n",
        "40 за которым следует текущее число\n",
        "\n",
        "50 PAVUK (NEXT) используется для продолжения цикла\n",
        "\n",
        "60 Наконец, она выводит \"Молодец!\" после завершения цикла\n",
        "\n",
        "\n",
        "\n",
        "---\n",
        "\n",
        "\n",
        "\n",
        "**Задание 2:**\n",
        "\n",
        "**Посчитай сколько лет прошло от рождества Христова до твоей второй годовщины в Америке**"
      ],
      "metadata": {
        "id": "Jfn1oekgNZA4"
      }
    },
    {
      "cell_type": "code",
      "source": [
        "!python kuchau_console.py"
      ],
      "metadata": {
        "id": "qa9MbRRuNo-s",
        "collapsed": true
      },
      "execution_count": null,
      "outputs": []
    },
    {
      "cell_type": "markdown",
      "source": [
        "\n",
        "\n",
        "---\n",
        "\n",
        "\n",
        "**Пример 3:**\n",
        "\n",
        "**Потерянные ушные затычки**\n",
        "\n",
        "10 SHOWMEYOURGENITALS \"Счетчик потерянных беруш\"\n",
        "\n",
        "20 EBUN N = 0\n",
        "\n",
        "30 SHOWMEYOURGENITALS \"Обнаружено беруш под кроватью:\"\n",
        "\n",
        "40 SHOWMEYOURGENITALS N\n",
        "\n",
        "50 ZHOPA N > 1 MASHULKIN SHOWMEYOURGENITALS \"Ты Маша-растеряша!\"\n",
        "\n",
        "60 ZHOPA N < 1 MASHULKIN SHOWMEYOURGENITALS \"Все беруши на месте.\"\n",
        "\n",
        "\n",
        "\n",
        "---\n",
        "\n",
        "\n",
        "\n",
        "**Пояснения...**\n",
        "\n",
        "10 Сначала программа выводит заголовок \"Счетчик потерянных беруш\"\n",
        "\n",
        "20 Затем она использует комманду EBUN чтобы задать значенеи переменной N\n",
        "\n",
        "30 Теперь программа выводит \"Обнаружено беруш под кроватью:\" чтобы было понятно о чем речь\n",
        "\n",
        "40 И далее -- значение переменной N (у меня беруш не обнаружено)\n",
        "\n",
        "50 Используя комманду ZHOPA (IF) программа проверяет переменную N на предмет того, больше или меньше ли она заданного значения\n",
        "\n",
        "Если переменная проходит проверку, **то** (MASHULKIN) выводится сообщение с вердиктом\n",
        "\n",
        "\n",
        "\n",
        "\n",
        "---\n",
        "\n",
        "\n",
        "\n",
        "**Задание 3:**\n",
        "\n",
        "**Давай посмотрим что там у тебя под кроватью.**\n"
      ],
      "metadata": {
        "id": "cFwTs2i-jYb_"
      }
    },
    {
      "cell_type": "code",
      "source": [
        "!python kuchau_console.py"
      ],
      "metadata": {
        "id": "qULuYxWbntuA"
      },
      "execution_count": null,
      "outputs": []
    }
  ]
}